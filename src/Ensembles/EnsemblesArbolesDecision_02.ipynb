{
 "cells": [
  {
   "cell_type": "markdown",
   "metadata": {
    "id": "O94qX1svwzoC"
   },
   "source": [
    "# 5. Ensembles de Arboles de Decision"
   ]
  },
  {
   "cell_type": "markdown",
   "metadata": {
    "id": "HsJFTcBZw1bE"
   },
   "source": [
    "## 5.3 Random Forest"
   ]
  },
  {
   "cell_type": "markdown",
   "metadata": {
    "id": "nsgvDbemw9Tc"
   },
   "source": [
    "*Random Forest* es un algoritmo de ensembles de arboles de decision creado por Leo Brieman en 1995-2006\n",
    "<br>Qué tipo de perturbaciones se realizan en Random Forest\n",
    "\n",
    "*   Se perturba el dataset, con la técnica de bagging = Bootstrap Aggregating\n",
    "*   Tambien se perturba el algoritmo, utiliza random en cada split"
   ]
  },
  {
   "cell_type": "markdown",
   "metadata": {
    "id": "j75A--Tsx2df"
   },
   "source": [
    "Cada arbolito de Random Forest se entrena sobre un dataset perturbado, que tiene :\n",
    "* todas las columnas originales (esta es una GRAN diferencia con  Arboles Azarosos)\n",
    "* la misma *cantidad* de registros del dataset original, PERO generados por la técnica de sampleo con reposición del dataset original."
   ]
  },
  {
   "cell_type": "markdown",
   "metadata": {
    "id": "lg0-WDkvyObC"
   },
   "source": [
    "A pesar de que Leo Brieman es también el inventor de CART (Classification and Regression Trees) Random Forest no corre el algoritmo CART de la libreria rpart, sino un CART perturbado, en donde cada split NO se hace sobre todos los campos del dataset, sino sobre un csubconjunto tomado al azar, esa cantidad es el hiperparámetro *mtry*"
   ]
  },
  {
   "cell_type": "markdown",
   "metadata": {
    "id": "PX0qg_c0yqob"
   },
   "source": [
    "#### 5.3.1  Seteo del ambiente en Google Colab"
   ]
  },
  {
   "cell_type": "markdown",
   "metadata": {
    "id": "NGY7H9xza7Zr"
   },
   "source": [
    "Esta parte se debe correr con el runtime en Python3\n",
    "<br>Ir al menu, Runtime -> Change Runtime Type -> Runtime type ->  **Python 3**"
   ]
  },
  {
   "cell_type": "markdown",
   "metadata": {
    "id": "7PupIBNba7Zr"
   },
   "source": [
    "Conectar la virtual machine donde esta corriendo Google Colab con el  Google Drive, para poder tener persistencia de archivos"
   ]
  },
  {
   "cell_type": "code",
   "execution_count": null,
   "metadata": {
    "id": "9LpZCst5a7Zs"
   },
   "outputs": [],
   "source": [
    "# primero establecer el Runtime de Python 3\n",
    "from google.colab import drive\n",
    "drive.mount('/content/.drive')"
   ]
  },
  {
   "cell_type": "markdown",
   "metadata": {
    "id": "JYC_F-wla7Zs"
   },
   "source": [
    "Para correr la siguiente celda es fundamental en Arranque en Frio haber copiado el archivo kaggle.json al Google Drive, en la carpeta indicada en el instructivo\n",
    "\n",
    "<br>los siguientes comando estan en shell script de Linux\n",
    "*   Crear las carpetas en el Google Drive\n",
    "*   \"instalar\" el archivo kaggle.json desde el Google Drive a la virtual machine para que pueda ser utilizado por la libreria  kaggle de Python\n",
    "*   Bajar el  **dataset_pequeno**  al  Google Drive  y tambien al disco local de la virtual machine que esta corriendo Google Colab\n",
    "\n"
   ]
  },
  {
   "cell_type": "code",
   "execution_count": null,
   "metadata": {
    "id": "XWLelftXa7Zt"
   },
   "outputs": [],
   "source": [
    "%%shell\n",
    "\n",
    "mkdir -p \"/content/.drive/My Drive/labo1\"\n",
    "mkdir -p \"/content/buckets\"\n",
    "ln -s \"/content/.drive/My Drive/labo1\" /content/buckets/b1\n",
    "\n",
    "mkdir -p ~/.kaggle\n",
    "cp /content/buckets/b1/kaggle/kaggle.json  ~/.kaggle\n",
    "chmod 600 ~/.kaggle/kaggle.json\n",
    "\n",
    "\n",
    "mkdir -p /content/buckets/b1/exp\n",
    "mkdir -p /content/buckets/b1/datasets\n",
    "mkdir -p /content/datasets\n",
    "\n",
    "\n",
    "\n",
    "archivo_origen=\"https://storage.googleapis.com/open-courses/austral2025-af91/labo1r/dataset_pequeno.csv\"\n",
    "archivo_destino=\"/content/datasets/dataset_pequeno.csv\"\n",
    "archivo_destino_bucket=\"/content/buckets/b1/datasets/dataset_pequeno.csv\"\n",
    "\n",
    "if ! test -f $archivo_destino_bucket; then\n",
    "  wget  $archivo_origen  -O $archivo_destino_bucket\n",
    "fi\n",
    "\n",
    "\n",
    "if ! test -f $archivo_destino; then\n",
    "  cp  $archivo_destino_bucket  $archivo_destino\n",
    "fi\n"
   ]
  },
  {
   "cell_type": "markdown",
   "metadata": {
    "id": "oSKhZRToy2F7"
   },
   "source": [
    "### 5.3.2  Random Forest, una corrida"
   ]
  },
  {
   "cell_type": "markdown",
   "metadata": {
    "id": "eSU5vi00CPRS"
   },
   "source": [
    "Esta parte se debe correr con el runtime en lenguaje **R** Ir al menu, Runtime -> Change Runtime Type -> Runtime type -> R"
   ]
  },
  {
   "cell_type": "markdown",
   "metadata": {
    "id": "Zq8dySimCPRT"
   },
   "source": [
    "limpio el ambiente de R"
   ]
  },
  {
   "cell_type": "code",
   "execution_count": 1,
   "metadata": {
    "id": "1iE0U4_WCPRT"
   },
   "outputs": [
    {
     "data": {
      "text/html": [
       "<table class=\"dataframe\">\n",
       "<caption>A matrix: 2 × 6 of type dbl</caption>\n",
       "<thead>\n",
       "\t<tr><th></th><th scope=col>used</th><th scope=col>(Mb)</th><th scope=col>gc trigger</th><th scope=col>(Mb)</th><th scope=col>max used</th><th scope=col>(Mb)</th></tr>\n",
       "</thead>\n",
       "<tbody>\n",
       "\t<tr><th scope=row>Ncells</th><td> 649911</td><td>34.8</td><td>1439431</td><td>76.9</td><td>1070125</td><td>57.2</td></tr>\n",
       "\t<tr><th scope=row>Vcells</th><td>1209945</td><td> 9.3</td><td>8388608</td><td>64.0</td><td>1924971</td><td>14.7</td></tr>\n",
       "</tbody>\n",
       "</table>\n"
      ],
      "text/latex": [
       "A matrix: 2 × 6 of type dbl\n",
       "\\begin{tabular}{r|llllll}\n",
       "  & used & (Mb) & gc trigger & (Mb) & max used & (Mb)\\\\\n",
       "\\hline\n",
       "\tNcells &  649911 & 34.8 & 1439431 & 76.9 & 1070125 & 57.2\\\\\n",
       "\tVcells & 1209945 &  9.3 & 8388608 & 64.0 & 1924971 & 14.7\\\\\n",
       "\\end{tabular}\n"
      ],
      "text/markdown": [
       "\n",
       "A matrix: 2 × 6 of type dbl\n",
       "\n",
       "| <!--/--> | used | (Mb) | gc trigger | (Mb) | max used | (Mb) |\n",
       "|---|---|---|---|---|---|---|\n",
       "| Ncells |  649911 | 34.8 | 1439431 | 76.9 | 1070125 | 57.2 |\n",
       "| Vcells | 1209945 |  9.3 | 8388608 | 64.0 | 1924971 | 14.7 |\n",
       "\n"
      ],
      "text/plain": [
       "       used    (Mb) gc trigger (Mb) max used (Mb)\n",
       "Ncells  649911 34.8 1439431    76.9 1070125  57.2\n",
       "Vcells 1209945  9.3 8388608    64.0 1924971  14.7"
      ]
     },
     "metadata": {},
     "output_type": "display_data"
    }
   ],
   "source": [
    "# limpio la memoria\n",
    "rm(list=ls(all.names=TRUE)) # remove all objects\n",
    "gc(full=TRUE, verbose=FALSE) # garbage collection"
   ]
  },
  {
   "cell_type": "markdown",
   "metadata": {
    "id": "vOhrxo_s0lhn"
   },
   "source": [
    "**ranger** es una de las muchas librerías en lenguage R que implementa el algoritmo *Random Forest*, tiene la ventaja que corre el paralelo, utilizando todos los nucleos del procesador."
   ]
  },
  {
   "cell_type": "code",
   "execution_count": 2,
   "metadata": {
    "id": "BJDwdD0dCPRU"
   },
   "outputs": [
    {
     "name": "stderr",
     "output_type": "stream",
     "text": [
      "Loading required package: data.table\n",
      "\n",
      "Loading required package: rpart\n",
      "\n",
      "Loading required package: ranger\n",
      "\n",
      "Loading required package: randomForest\n",
      "\n",
      "randomForest 4.7-1.2\n",
      "\n",
      "Type rfNews() to see new features/changes/bug fixes.\n",
      "\n",
      "\n",
      "Attaching package: ‘randomForest’\n",
      "\n",
      "\n",
      "The following object is masked from ‘package:ranger’:\n",
      "\n",
      "    importance\n",
      "\n",
      "\n"
     ]
    }
   ],
   "source": [
    "# cargo las librerias que necesito\n",
    "require(\"data.table\")\n",
    "require(\"rpart\")\n",
    "\n",
    "# ranger se usa para procesar\n",
    "if( !require(\"ranger\") ) install.packages(\"ranger\")\n",
    "require(\"ranger\")\n",
    "\n",
    "# randomForest  solo se usa para imputar nulos\n",
    "if( !require(\"randomForest\") ) install.packages(\"randomForest\")\n",
    "require(\"randomForest\")"
   ]
  },
  {
   "cell_type": "markdown",
   "metadata": {
    "id": "M8-Pyp6CCPRU"
   },
   "source": [
    "Aqui debe cargar SU semilla primigenia y"
   ]
  },
  {
   "cell_type": "code",
   "execution_count": 17,
   "metadata": {
    "id": "peRH7ySLCPRV"
   },
   "outputs": [],
   "source": [
    "PARAM <- list()\n",
    "PARAM$experimento <- 5320\n",
    "PARAM$semilla_primigenia <- 847117\n",
    "\n",
    "PARAM$ranger$num.trees= 300 # cantidad de arboles\n",
    "PARAM$ranger$mtry = 13 # cantidad de atributos que participan en cada split\n",
    "PARAM$ranger$min.node.size = 50 # tamaño minimo de las hojas\n",
    "PARAM$ranger$max.depth = 10 # 0 significa profundidad infinita\n"
   ]
  },
  {
   "cell_type": "code",
   "execution_count": 18,
   "metadata": {
    "id": "1gZD6ZMvCPRV"
   },
   "outputs": [],
   "source": [
    "# carpeta de trabajo\n",
    "setwd(\"/content/buckets/b1/exp\")\n",
    "experimento_folder <- paste0(\"KA\", PARAM$experimento)\n",
    "dir.create(experimento_folder, showWarnings=FALSE)\n",
    "setwd( paste0(\"/content/buckets/b1/exp/\", experimento_folder ))"
   ]
  },
  {
   "cell_type": "code",
   "execution_count": 19,
   "metadata": {
    "id": "Xi0emX2ECPRV"
   },
   "outputs": [],
   "source": [
    "# lectura del dataset\n",
    "dataset <- fread(\"/content/datasets/dataset_pequeno.csv\")"
   ]
  },
  {
   "cell_type": "code",
   "execution_count": 20,
   "metadata": {
    "id": "-3XuBeDy1Ugj"
   },
   "outputs": [],
   "source": [
    "#  estas dos lineas estan relacionadas con el Data Drifting\n",
    "# asigno un valor muy negativo\n",
    "\n",
    "if( \"Master_Finiciomora\" %in% colnames(dataset) )\n",
    "  dataset[ is.na(Master_Finiciomora) , Master_Finiciomora := -999 ]\n",
    "\n",
    "if( \"Visa_Finiciomora\" %in% colnames(dataset) )\n",
    "  dataset[ is.na(Visa_Finiciomora) , Visa_Finiciomora :=  -999 ]\n"
   ]
  },
  {
   "cell_type": "code",
   "execution_count": 21,
   "metadata": {
    "id": "RA3cSJ6KaGwA"
   },
   "outputs": [],
   "source": [
    "# defino los dataset de entrenamiento y aplicacion\n",
    "dtrain <- dataset[foto_mes == 202107]\n",
    "dfuture <- dataset[foto_mes == 202109]"
   ]
  },
  {
   "cell_type": "code",
   "execution_count": 22,
   "metadata": {
    "id": "T6Zr06HB1kMU"
   },
   "outputs": [],
   "source": [
    "set.seed( PARAM$semilla_primigenia ) # Establezco la semilla aleatoria\n",
    "\n",
    "\n",
    "# ranger necesita la clase de tipo factor\n",
    "factorizado <- as.factor(dtrain$clase_ternaria)\n",
    "dtrain[, clase_ternaria := factorizado]"
   ]
  },
  {
   "cell_type": "code",
   "execution_count": 23,
   "metadata": {
    "id": "U2vkkByI1oPl"
   },
   "outputs": [],
   "source": [
    "# Ranger NO acepta valores nulos\n",
    "# Leo Breiman, ¿por que le temias a los nulos?\n",
    "# imputo los nulos, ya que ranger no acepta nulos\n",
    "dtrain <- na.roughfix(dtrain)\n",
    "\n"
   ]
  },
  {
   "cell_type": "code",
   "execution_count": 24,
   "metadata": {
    "id": "TI9_5pii2zCF"
   },
   "outputs": [
    {
     "name": "stdout",
     "output_type": "stream",
     "text": [
      "Growing trees.. Progress: 10%. Estimated remaining time: 4 minutes, 42 seconds.\n",
      "Growing trees.. Progress: 20%. Estimated remaining time: 4 minutes, 9 seconds.\n",
      "Growing trees.. Progress: 30%. Estimated remaining time: 3 minutes, 39 seconds.\n",
      "Growing trees.. Progress: 40%. Estimated remaining time: 3 minutes, 7 seconds.\n",
      "Growing trees.. Progress: 49%. Estimated remaining time: 2 minutes, 39 seconds.\n",
      "Growing trees.. Progress: 59%. Estimated remaining time: 2 minutes, 10 seconds.\n",
      "Growing trees.. Progress: 69%. Estimated remaining time: 1 minute, 38 seconds.\n",
      "Growing trees.. Progress: 79%. Estimated remaining time: 1 minute, 8 seconds.\n",
      "Growing trees.. Progress: 88%. Estimated remaining time: 37 seconds.\n",
      "Growing trees.. Progress: 98%. Estimated remaining time: 8 seconds.\n"
     ]
    }
   ],
   "source": [
    "setorder(dtrain, clase_ternaria) # primero quedan los BAJA+1, BAJA+2, CONTINUA\n",
    "\n",
    "# genero el modelo de Random Forest llamando a ranger()\n",
    "modelo <- ranger(\n",
    "  formula = \"clase_ternaria ~ .\",\n",
    "  data = dtrain,\n",
    "  probability = TRUE, # para que devuelva las probabilidades\n",
    "  num.trees = PARAM$ranger$num.trees,\n",
    "  mtry = PARAM$ranger$mtry,\n",
    "  min.node.size = PARAM$ranger$min.node.size,\n",
    "  max.depth = PARAM$ranger$max.depth\n",
    ")\n"
   ]
  },
  {
   "cell_type": "code",
   "execution_count": 25,
   "metadata": {
    "id": "xjWjhp9c20fe"
   },
   "outputs": [],
   "source": [
    "# Carpinteria necesaria sobre  dfuture\n",
    "# como quiere la Estadistica Clasica, imputar nulos por separado\n",
    "# ( aunque en este caso ya tengo los datos del futuro de antemano\n",
    "#  pero bueno, sigamos el librito de estos fundamentalistas a rajatabla ...\n",
    "\n",
    "dfuture[, clase_ternaria := NULL]\n",
    "dfuture <- na.roughfix(dfuture)"
   ]
  },
  {
   "cell_type": "code",
   "execution_count": 26,
   "metadata": {
    "id": "iJxk4qsd9kgX"
   },
   "outputs": [],
   "source": [
    "tb_prediccion <- dfuture[, list(numero_de_cliente)]"
   ]
  },
  {
   "cell_type": "code",
   "execution_count": 27,
   "metadata": {
    "id": "kkTGHx2K3Mjq"
   },
   "outputs": [],
   "source": [
    "# aplico el modelo a los datos que no tienen clase\n",
    "# aplico el modelo recien creado a los datos del futuro\n",
    "prediccion <- predict(modelo, dfuture)\n",
    "\n",
    "tb_prediccion[, prob := prediccion$predictions[, \"BAJA+2\"] ]"
   ]
  },
  {
   "cell_type": "code",
   "execution_count": 28,
   "metadata": {
    "id": "F8O_PLWo3aIQ"
   },
   "outputs": [],
   "source": [
    "tb_prediccion[, Predicted := as.numeric(prob > (1/40))]"
   ]
  },
  {
   "cell_type": "code",
   "execution_count": 29,
   "metadata": {
    "id": "uZLUbDIJ3tbx"
   },
   "outputs": [],
   "source": [
    "archivo_kaggle <- paste0(\"KA\", PARAM$experimento,\".csv\")\n",
    "\n",
    "# grabo el archivo\n",
    "fwrite( tb_prediccion[, list(numero_de_cliente, Predicted)],\n",
    " file= archivo_kaggle,\n",
    " sep= \",\"\n",
    ")\n"
   ]
  },
  {
   "cell_type": "code",
   "execution_count": 30,
   "metadata": {
    "id": "-hciL1Jn3ThU"
   },
   "outputs": [
    {
     "name": "stdout",
     "output_type": "stream",
     "text": [
      "Successfully submitted to LaboI 2025 Rosario"
     ]
    }
   ],
   "source": [
    "# subida a Kaggle\n",
    "comando <- \"kaggle competitions submit\"\n",
    "competencia <- \"-c labo-i-2025-rosario\"\n",
    "arch <- paste( \"-f\", archivo_kaggle)\n",
    "\n",
    "mensaje <- paste0(\"-m 'num.trees=\", PARAM$ranger$num.trees, \"  mtry=\", PARAM$ranger$mtry, \"  min.node.size=\", PARAM$ranger$min.node.size, \" max.depth=\", PARAM$ranger$max.depth, \"'\" )\n",
    "linea <- paste( comando, competencia, arch, mensaje)\n",
    "salida <- system(linea, intern=TRUE)\n",
    "cat(salida)"
   ]
  },
  {
   "cell_type": "markdown",
   "metadata": {
    "id": "UMr6Z1enOyd3"
   },
   "source": [
    "\n",
    "\n",
    "---\n",
    "\n"
   ]
  },
  {
   "cell_type": "markdown",
   "metadata": {
    "id": "lO4QwOEU-xPe"
   },
   "source": [
    "### 5.3.3  Random Forest  optimizacion de hiperparámetros"
   ]
  },
  {
   "cell_type": "markdown",
   "metadata": {
    "id": "75FU3LjSF2uN"
   },
   "source": [
    "Random Forest es un algoritmo que quedó obsoleto luego de la aparición de  XGBoost y LightGBM, debido a lo lento de las librerías que lo implementan.\n",
    "<br> El siguiente script se brinda simplemente a modo pedagógico, advirtiendo a los alumn@s que demanda más de 24 horas para correr, y los resultados son mediocres."
   ]
  },
  {
   "cell_type": "markdown",
   "metadata": {
    "id": "aJBO5Dcb_B7s"
   },
   "source": [
    "limpio el ambiente de R"
   ]
  },
  {
   "cell_type": "code",
   "execution_count": null,
   "metadata": {
    "id": "HPKFI6yP_B7s"
   },
   "outputs": [],
   "source": [
    "# limpio la memoria\n",
    "rm(list=ls(all.names=TRUE)) # remove all objects\n",
    "gc(full=TRUE, verbose=FALSE) # garbage collection"
   ]
  },
  {
   "cell_type": "markdown",
   "metadata": {
    "id": "vd4lv_Eb_B7t"
   },
   "source": [
    "**ranger** es una de las muchas librerías en lenguage R que implementa el algoritmo *Random Forest*, tiene la ventaja que corre el paralelo, utilizando todos los nucleos del procesador."
   ]
  },
  {
   "cell_type": "code",
   "execution_count": null,
   "metadata": {
    "id": "B6X8U6XF_B7t"
   },
   "outputs": [],
   "source": [
    "# cargo las librerias que necesito\n",
    "require(\"data.table\")\n",
    "require(\"rpart\")\n",
    "require(\"parallel\")\n",
    "\n",
    "if( !require(\"primes\") ) install.packages(\"primes\")\n",
    "require(\"primes\")\n",
    "\n",
    "if( !require(\"rlist\") ) install.packages(\"rlist\")\n",
    "require(\"rlist\")\n",
    "\n",
    "# ranger se usa para procesar\n",
    "if( !require(\"ranger\") ) install.packages(\"ranger\")\n",
    "require(\"ranger\")\n",
    "\n",
    "# randomForest  solo se usa para imputar nulos\n",
    "if( !require(\"randomForest\") ) install.packages(\"randomForest\")\n",
    "require(\"randomForest\")\n",
    "\n",
    "\n",
    "if( !require(\"DiceKriging\") ) install.packages(\"DiceKriging\")\n",
    "require(\"DiceKriging\")\n",
    "\n",
    "if( !require(\"mlrMBO\") ) install.packages(\"mlrMBO\")\n",
    "require(\"mlrMBO\")\n"
   ]
  },
  {
   "cell_type": "markdown",
   "metadata": {
    "id": "_qZHeAHdCJQ2"
   },
   "source": [
    "Aqui debe cargar SU semilla primigenia y"
   ]
  },
  {
   "cell_type": "code",
   "execution_count": null,
   "metadata": {
    "id": "2y3Ai8F6CJQ2"
   },
   "outputs": [],
   "source": [
    "PARAM <- list()\n",
    "PARAM$experimento <- 5330\n",
    "PARAM$semilla_primigenia <- 102191\n",
    "\n",
    "PARAM$hyperparametertuning$iteraciones <- 100\n",
    "PARAM$hyperparametertuning$xval_folds <- 5\n",
    "PARAM$hyperparametertuning$POS_ganancia <- 117000\n",
    "PARAM$hyperparametertuning$NEG_ganancia <- -3000\n",
    "\n",
    "# Estructura que define los hiperparámetros y sus rangos\n",
    "#  la letra L al final significa ENTERO\n",
    "# max.depth 0 significa profundidad infinita\n",
    "PARAM$hs <- makeParamSet(\n",
    "  makeIntegerParam(\"num.trees\", lower= 20L, upper= 500L),\n",
    "  makeIntegerParam(\"max.depth\", lower= 1L, upper= 30L),\n",
    "  makeIntegerParam(\"min.node.size\", lower= 1L, upper= 1000L),\n",
    "  makeIntegerParam(\"mtry\", lower= 2L, upper= 50L)\n",
    ")"
   ]
  },
  {
   "cell_type": "code",
   "execution_count": null,
   "metadata": {
    "id": "P8YNRVVbCvQT"
   },
   "outputs": [],
   "source": [
    "# graba a un archivo los componentes de lista\n",
    "# para el primer registro, escribe antes los titulos\n",
    "\n",
    "loguear <- function(\n",
    "    reg, arch = NA, folder = \"./work/\",\n",
    "    ext = \".txt\", verbose = TRUE) {\n",
    "\n",
    "  archivo <- arch\n",
    "  if (is.na(arch)) archivo <- paste0(folder, substitute(reg), ext)\n",
    "\n",
    "  if (!file.exists(archivo)) # Escribo los titulos\n",
    "    {\n",
    "      linea <- paste0(\n",
    "        \"fecha\\t\",\n",
    "        paste(list.names(reg), collapse = \"\\t\"), \"\\n\"\n",
    "      )\n",
    "\n",
    "      cat(linea, file = archivo)\n",
    "    }\n",
    "\n",
    "  linea <- paste0(\n",
    "    format(Sys.time(), \"%Y%m%d %H%M%S\"), \"\\t\", # la fecha y hora\n",
    "    gsub(\", \", \"\\t\", toString(reg)), \"\\n\"\n",
    "  )\n",
    "\n",
    "  cat(linea, file = archivo, append = TRUE) # grabo al archivo\n",
    "\n",
    "  if (verbose) cat(linea) # imprimo por pantalla\n",
    "}\n"
   ]
  },
  {
   "cell_type": "code",
   "execution_count": null,
   "metadata": {
    "id": "NnPKiCHuCwVo"
   },
   "outputs": [],
   "source": [
    "# particionar agrega una columna llamada fold a un dataset\n",
    "#  que consiste en una particion estratificada segun agrupa\n",
    "# particionar( data=dataset, division=c(70,30),\n",
    "#  agrupa=clase_ternaria, seed=semilla)   crea una particion 70, 30\n",
    "# particionar( data=dataset, division=c(1,1,1,1,1),\n",
    "#   agrupa=clase_ternaria, seed=semilla)   divide el dataset en 5 particiones\n",
    "\n",
    "particionar <- function(\n",
    "    data, division, agrupa = \"\",\n",
    "    campo = \"fold\", start = 1, seed = NA) {\n",
    "\n",
    "  if (!is.na(seed)) set.seed(seed)\n",
    "\n",
    "  bloque <- unlist(mapply(function(x, y) {\n",
    "    rep(y, x)\n",
    "  }, division, seq(from = start, length.out = length(division))))\n",
    "\n",
    "  data[, (campo) := sample(rep(bloque, ceiling(.N / length(bloque))))[1:.N],\n",
    "    by = agrupa\n",
    "  ]\n",
    "}\n"
   ]
  },
  {
   "cell_type": "code",
   "execution_count": null,
   "metadata": {
    "id": "kZSD7pUUCy58"
   },
   "outputs": [],
   "source": [
    "# es un paso del Cross Validation\n",
    "# utiliza el fold  fold_test para testear y el resto para entrenar\n",
    "\n",
    "ranger_Simple <- function(fold_test, pdata, param) {\n",
    "  # genero el modelo\n",
    "\n",
    "  set.seed(PARAM$semillas[2])\n",
    "\n",
    "  modelo <- ranger(\n",
    "    formula= \"clase_binaria ~ .\",\n",
    "    data= pdata[fold != fold_test],\n",
    "    probability= TRUE, # para que devuelva las probabilidades\n",
    "    num.trees= param$num.trees,\n",
    "    mtry= param$mtry,\n",
    "    min.node.size= param$min.node.size,\n",
    "    max.depth= param$max.depth\n",
    "  )\n",
    "\n",
    "  prediccion <- predict(modelo, pdata[fold == fold_test])\n",
    "\n",
    "  ganancia_testing <- pdata[\n",
    "    fold == fold_test,\n",
    "    sum((prediccion$predictions[, \"POS\"] > 1 / 40) *\n",
    "      ifelse(clase_binaria == \"POS\",\n",
    "        PARAM$hyperparametertuning$POS_ganancia,\n",
    "        PARAM$hyperparametertuning$NEG_ganancia\n",
    "      ))\n",
    "  ]\n",
    "\n",
    "  return(ganancia_testing)\n",
    "}\n"
   ]
  },
  {
   "cell_type": "code",
   "execution_count": null,
   "metadata": {
    "id": "ca7cVnUJC2Yz"
   },
   "outputs": [],
   "source": [
    "# realiza Cross Validation, promediando las ganancias de los folds de testing\n",
    "\n",
    "ranger_CrossValidation <- function(\n",
    "    data, param,\n",
    "    pcampos_buenos, qfolds, pagrupa, semilla) {\n",
    "\n",
    "  divi <- rep(1, qfolds)\n",
    "  particionar(data, divi, seed = semilla, agrupa = pagrupa)\n",
    "\n",
    "  ganancias <- mcmapply(ranger_Simple,\n",
    "    seq(qfolds), # 1 2 3 4 5\n",
    "    MoreArgs= list(data, param),\n",
    "    SIMPLIFY= FALSE,\n",
    "    mc.cores= 1\n",
    "  ) # dejar esto en  1, porque ranger ya corre en paralelo\n",
    "\n",
    "  data[, fold := NULL] # elimino el campo fold\n",
    "\n",
    "  # devuelvo la ganancia promedio normalizada\n",
    "  ganancia_promedio <- mean(unlist(ganancias))\n",
    "  ganancia_promedio_normalizada <- ganancia_promedio * qfolds\n",
    "\n",
    "  return(ganancia_promedio_normalizada)\n",
    "}"
   ]
  },
  {
   "cell_type": "code",
   "execution_count": null,
   "metadata": {
    "id": "ZXNGJGOiC5lT"
   },
   "outputs": [],
   "source": [
    "# esta funcion solo puede recibir los parametros que se estan optimizando\n",
    "# el resto de los parametros se pasan como variables globales\n",
    "\n",
    "EstimarGanancia_ranger <- function(x) {\n",
    "  GLOBAL_iteracion <<- GLOBAL_iteracion + 1\n",
    "\n",
    "  xval_folds <- PARAM$hyperparametertuning$xval_folds\n",
    "\n",
    "  ganancia <- ranger_CrossValidation(dataset,\n",
    "    param = x,\n",
    "    qfolds = xval_folds,\n",
    "    pagrupa = \"clase_binaria\",\n",
    "    semilla = PARAM$semillas[1]\n",
    "  )\n",
    "\n",
    "  # logueo\n",
    "  xx <- x\n",
    "  xx$xval_folds <- xval_folds\n",
    "  xx$ganancia <- ganancia\n",
    "  xx$iteracion <- GLOBAL_iteracion\n",
    "  loguear(xx, arch = klog)\n",
    "\n",
    "  # si es ganancia superadora la almaceno en mejor\n",
    "  if( ganancia > GLOBAL_mejor ) {\n",
    "    GLOBAL_mejor <<- ganancia\n",
    "    loguear(xx, arch = klog_mejor)\n",
    "  }\n",
    "\n",
    "\n",
    "  return(ganancia)\n",
    "}\n"
   ]
  },
  {
   "cell_type": "markdown",
   "metadata": {
    "id": "P7Pw1KLeE3UH"
   },
   "source": [
    "aqui se inicial el programa"
   ]
  },
  {
   "cell_type": "code",
   "execution_count": null,
   "metadata": {
    "id": "w1lb19whCJQ3"
   },
   "outputs": [],
   "source": [
    "# carpeta de trabajo\n",
    "setwd(\"/content/buckets/b1/exp\")\n",
    "experimento_folder <- paste0(\"HT\", PARAM$experimento)\n",
    "dir.create(experimento_folder, showWarnings=FALSE)\n",
    "setwd( paste0(\"/content/buckets/b1/exp/\", experimento_folder ))"
   ]
  },
  {
   "cell_type": "code",
   "execution_count": null,
   "metadata": {
    "id": "fbLF3Vr0DAeJ"
   },
   "outputs": [],
   "source": [
    "# genero numeros primos\n",
    "primos <- generate_primes(min = 100000, max = 1000000)\n",
    "set.seed(PARAM$semilla_primigenia) # inicializo\n",
    "# me quedo con PARAM$qsemillas   semillas\n",
    "PARAM$semillas <- sample(primos, 2 )\n"
   ]
  },
  {
   "cell_type": "code",
   "execution_count": null,
   "metadata": {
    "id": "xcOJpoFvCJQ3"
   },
   "outputs": [],
   "source": [
    "# lectura del dataset\n",
    "dataset <- fread(\"/content/datasets/dataset_pequeno.csv\", stringsAsFactors = TRUE)"
   ]
  },
  {
   "cell_type": "code",
   "execution_count": null,
   "metadata": {
    "id": "JorOk_A8EhSy"
   },
   "outputs": [],
   "source": [
    "dataset <- dataset[foto_mes %in% c(202107)]"
   ]
  },
  {
   "cell_type": "code",
   "execution_count": null,
   "metadata": {
    "id": "lVbXD_l7CJQ4"
   },
   "outputs": [],
   "source": [
    "#  estas dos lineas estan relacionadas con el Data Drifting\n",
    "# asigno un valor muy negativo\n",
    "\n",
    "if( \"Master_Finiciomora\" %in% colnames(dataset) )\n",
    "  dataset[ is.na(Master_Finiciomora) , Master_Finiciomora := -999 ]\n",
    "\n",
    "if( \"Visa_Finiciomora\" %in% colnames(dataset) )\n",
    "  dataset[ is.na(Visa_Finiciomora) , Visa_Finiciomora :=  -999 ]\n"
   ]
  },
  {
   "cell_type": "code",
   "execution_count": null,
   "metadata": {
    "id": "a82SxgKnCJQ5"
   },
   "outputs": [],
   "source": [
    "set.seed( PARAM$semilla_primigenia ) # Establezco la semilla aleatoria"
   ]
  },
  {
   "cell_type": "code",
   "execution_count": null,
   "metadata": {
    "id": "CsRYGGeN-1ID"
   },
   "outputs": [],
   "source": [
    "# en estos archivos quedan los resultados\n",
    "kbayesiana <- paste0(\"HT\", PARAM$experimento, \".RDATA\")\n",
    "klog <- paste0(\"HT\", PARAM$experimento, \".txt\")\n",
    "klog_mejor <- paste0(\"HT\", PARAM$experimento, \"_mejor.txt\")\n",
    "\n",
    "GLOBAL_iteracion <- 0 # inicializo la variable global\n",
    "GLOBAL_mejor <- -Inf\n",
    "\n",
    "# si ya existe el archivo log, traigo hasta donde llegue\n",
    "if (file.exists(klog)) {\n",
    "  tabla_log <- fread(klog)\n",
    "  GLOBAL_iteracion <- nrow(tabla_log)\n",
    "}\n"
   ]
  },
  {
   "cell_type": "code",
   "execution_count": null,
   "metadata": {
    "id": "7G7O-ak-DPPV"
   },
   "outputs": [],
   "source": [
    "# paso a trabajar con clase binaria POS={BAJA+2}   NEG={BAJA+1, CONTINUA}\n",
    "dataset[, clase_binaria :=\n",
    "  as.factor(ifelse(clase_ternaria == \"BAJA+2\", \"POS\", \"NEG\"))]\n",
    "\n",
    "dataset[, clase_ternaria := NULL] # elimino la clase_ternaria, ya no la necesito\n"
   ]
  },
  {
   "cell_type": "code",
   "execution_count": null,
   "metadata": {
    "id": "tJCnOoiuDV1_"
   },
   "outputs": [],
   "source": [
    "# Ranger NO acepta valores nulos\n",
    "# Leo Breiman, ¿por que le temias a los nulos?\n",
    "# imputo los nulos, ya que ranger no acepta nulos\n",
    "\n",
    "dataset <- na.roughfix(dataset)"
   ]
  },
  {
   "cell_type": "code",
   "execution_count": null,
   "metadata": {
    "id": "2SOVysbADy9F"
   },
   "outputs": [],
   "source": [
    "# Aqui comienza la configuracion de la Bayesian Optimization\n",
    "\n",
    "configureMlr(show.learner.output = FALSE)\n",
    "\n",
    "funcion_optimizar <- EstimarGanancia_ranger\n",
    "\n",
    "# configuro la busqueda bayesiana,  los hiperparametros que se van a optimizar\n",
    "# por favor, no desesperarse por lo complejo\n",
    "obj.fun <- makeSingleObjectiveFunction(\n",
    "  fn= funcion_optimizar,\n",
    "  minimize= FALSE, # estoy Maximizando la ganancia\n",
    "  noisy= TRUE,\n",
    "  par.set= PARAM$hs,\n",
    "  has.simple.signature= FALSE\n",
    ")\n",
    "\n",
    "ctrl <- makeMBOControl(save.on.disk.at.time = 600, save.file.path = kbayesiana)\n",
    "\n",
    "ctrl <- setMBOControlTermination(\n",
    "  ctrl,\n",
    "  iters= PARAM$hyperparametertuning$iteraciones\n",
    ")\n",
    "\n",
    "ctrl <- setMBOControlInfill(ctrl, crit = makeMBOInfillCritEI())\n",
    "\n",
    "surr.km <- makeLearner(\n",
    "  \"regr.km\",\n",
    "  predict.type= \"se\",\n",
    "  covtype= \"matern3_2\",\n",
    "  control= list(trace = TRUE)\n",
    ")\n"
   ]
  },
  {
   "cell_type": "code",
   "execution_count": null,
   "metadata": {
    "id": "TissqCCHD1uZ"
   },
   "outputs": [],
   "source": [
    "# inicio la optimizacion bayesiana\n",
    "\n",
    "if (!file.exists(kbayesiana)) {\n",
    "  run <- mbo(obj.fun, learner = surr.km, control = ctrl)\n",
    "} else {\n",
    "  run <- mboContinue(kbayesiana)\n",
    "} # retomo en caso que ya exista"
   ]
  },
  {
   "cell_type": "markdown",
   "metadata": {
    "id": "0vu-1vf5LrVg"
   },
   "source": [
    "\n",
    "\n",
    "---\n",
    "\n"
   ]
  }
 ],
 "metadata": {
  "colab": {
   "provenance": []
  },
  "kernelspec": {
   "display_name": "R",
   "language": "R",
   "name": "ir"
  },
  "language_info": {
   "codemirror_mode": "r",
   "file_extension": ".r",
   "mimetype": "text/x-r-source",
   "name": "R",
   "pygments_lexer": "r",
   "version": "4.4.3"
  }
 },
 "nbformat": 4,
 "nbformat_minor": 4
}

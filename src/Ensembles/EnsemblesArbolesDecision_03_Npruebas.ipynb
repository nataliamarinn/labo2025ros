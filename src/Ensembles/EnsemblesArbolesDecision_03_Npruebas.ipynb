{
 "cells": [
  {
   "cell_type": "markdown",
   "metadata": {
    "id": "O94qX1svwzoC"
   },
   "source": [
    "# 5. Ensembles de Arboles de Decision"
   ]
  },
  {
   "cell_type": "markdown",
   "metadata": {
    "id": "HsJFTcBZw1bE"
   },
   "source": [
    "## 5.4 GBDT LightGBM"
   ]
  },
  {
   "cell_type": "markdown",
   "metadata": {
    "id": "nsgvDbemw9Tc"
   },
   "source": [
    "La técnica de Gradient Boosting fue creada por Jerome H. Friedman en 1999 - 2001\n",
    "<br>Se implementaron librerías ineficientes\n",
    "<br>En 2016 se crea XGBoost, en 2017 LightGBM\n",
    "\n",
    "El Gradient Boosting of Decision Trees es un ensemble de árboles de decisión, para un nuevo registro la predicción se hace sumando el score que cada arbol asigna a ese registro.\n",
    "\n",
    "En GBDT la construccion de los árboles es secuencial, ya que el arbol n-simo se genera para predecir el error del modelo conformado por los  n-1 arboles previos, aunque sea un arbol de clasificación lo que se predice es un numero real mediante un arbol de regresión.\n"
   ]
  },
  {
   "cell_type": "markdown",
   "metadata": {
    "id": "nF6XblBIYnY6"
   },
   "source": [
    "<br>Qué tipo de perturbaciones se realiza LightGBM\n",
    "\n",
    "*   Se perturba el dataset, seleccionando para cada arbol un subconjunto de las columnas.\n",
    "*   El algortimo de arbol de decisión no presenta perturbaciones"
   ]
  },
  {
   "cell_type": "markdown",
   "metadata": {
    "id": "j75A--Tsx2df"
   },
   "source": [
    "Cada arbolito de LightGBM se entrena sobre un dataset perturbado, que en principio posee :\n",
    "* todos los registros del dataset original\n",
    "* solo un porcentaje *feature_fraction* de las columnas originales del dataset"
   ]
  },
  {
   "cell_type": "markdown",
   "metadata": {
    "id": "PX0qg_c0yqob"
   },
   "source": [
    "#### 5.4.1  Seteo del ambiente en Google Colab"
   ]
  },
  {
   "cell_type": "markdown",
   "metadata": {
    "id": "NGY7H9xza7Zr"
   },
   "source": [
    "Esta parte se debe correr con el runtime en Python3\n",
    "<br>Ir al menu, Runtime -> Change Runtime Type -> Runtime type ->  **Python 3**"
   ]
  },
  {
   "cell_type": "markdown",
   "metadata": {
    "id": "7PupIBNba7Zr"
   },
   "source": [
    "Conectar la virtual machine donde esta corriendo Google Colab con el  Google Drive, para poder tener persistencia de archivos"
   ]
  },
  {
   "cell_type": "code",
   "execution_count": null,
   "metadata": {
    "id": "9LpZCst5a7Zs"
   },
   "outputs": [],
   "source": [
    "# primero establecer el Runtime de Python 3\n",
    "from google.colab import drive\n",
    "drive.mount('/content/.drive')"
   ]
  },
  {
   "cell_type": "markdown",
   "metadata": {
    "id": "JYC_F-wla7Zs"
   },
   "source": [
    "Para correr la siguiente celda es fundamental en Arranque en Frio haber copiado el archivo kaggle.json al Google Drive, en la carpeta indicada en el instructivo\n",
    "\n",
    "<br>los siguientes comando estan en shell script de Linux\n",
    "*   Crear las carpetas en el Google Drive\n",
    "*   \"instalar\" el archivo kaggle.json desde el Google Drive a la virtual machine para que pueda ser utilizado por la libreria  kaggle de Python\n",
    "*   Bajar el  **dataset_pequeno**  al  Google Drive  y tambien al disco local de la virtual machine que esta corriendo Google Colab\n",
    "\n"
   ]
  },
  {
   "cell_type": "code",
   "execution_count": null,
   "metadata": {
    "id": "XWLelftXa7Zt"
   },
   "outputs": [],
   "source": [
    "%%shell\n",
    "\n",
    "mkdir -p \"/content/.drive/My Drive/labo1\"\n",
    "mkdir -p \"/content/buckets\"\n",
    "ln -s \"/content/.drive/My Drive/labo1\" /content/buckets/b1\n",
    "\n",
    "mkdir -p ~/.kaggle\n",
    "cp /content/buckets/b1/kaggle/kaggle.json  ~/.kaggle\n",
    "chmod 600 ~/.kaggle/kaggle.json\n",
    "\n",
    "\n",
    "mkdir -p /content/buckets/b1/exp\n",
    "mkdir -p /content/buckets/b1/datasets\n",
    "mkdir -p /content/datasets\n",
    "\n",
    "\n",
    "\n",
    "archivo_origen=\"https://storage.googleapis.com/open-courses/austral2025-af91/labo1r/dataset_pequeno.csv\"\n",
    "archivo_destino=\"/content/datasets/dataset_pequeno.csv\"\n",
    "archivo_destino_bucket=\"/content/buckets/b1/datasets/dataset_pequeno.csv\"\n",
    "\n",
    "if ! test -f $archivo_destino_bucket; then\n",
    "  wget  $archivo_origen  -O $archivo_destino_bucket\n",
    "fi\n",
    "\n",
    "\n",
    "if ! test -f $archivo_destino; then\n",
    "  cp  $archivo_destino_bucket  $archivo_destino\n",
    "fi\n"
   ]
  },
  {
   "cell_type": "markdown",
   "metadata": {
    "id": "oSKhZRToy2F7"
   },
   "source": [
    "### 5.4.2  LightGBM, una corrida"
   ]
  },
  {
   "cell_type": "markdown",
   "metadata": {
    "id": "eSU5vi00CPRS"
   },
   "source": [
    "Esta parte se debe correr con el runtime en lenguaje **R** Ir al menu, Runtime -> Change Runtime Type -> Runtime type -> R"
   ]
  },
  {
   "cell_type": "markdown",
   "metadata": {
    "id": "Zq8dySimCPRT"
   },
   "source": [
    "limpio el ambiente de R"
   ]
  },
  {
   "cell_type": "code",
   "execution_count": null,
   "metadata": {
    "id": "1iE0U4_WCPRT"
   },
   "outputs": [],
   "source": [
    "# limpio la memoria\n",
    "rm(list=ls(all.names=TRUE)) # remove all objects\n",
    "gc(full=TRUE, verbose=FALSE) # garbage collection"
   ]
  },
  {
   "cell_type": "code",
   "execution_count": null,
   "metadata": {
    "id": "BJDwdD0dCPRU"
   },
   "outputs": [],
   "source": [
    "# cargo las librerias que necesito\n",
    "require(\"data.table\")\n",
    "require(\"rpart\")\n",
    "\n",
    "if( !require(\"rlist\") ) install.packages(\"rlist\")\n",
    "require(\"rlist\")\n",
    "\n",
    "if( !require(\"lightgbm\") ) install.packages(\"lightgbm\")\n",
    "require(\"lightgbm\")"
   ]
  },
  {
   "cell_type": "markdown",
   "metadata": {
    "id": "M8-Pyp6CCPRU"
   },
   "source": [
    "Aqui debe cargar SU semilla primigenia"
   ]
  },
  {
   "cell_type": "code",
   "execution_count": null,
   "metadata": {
    "id": "peRH7ySLCPRV"
   },
   "outputs": [],
   "source": [
    "PARAM <- list()\n",
    "PARAM$experimento <- 5420\n",
    "PARAM$semilla_primigenia <- 102191\n",
    "\n",
    "# estos hiperparametros de LightGBM surgieron de una Bayesian Optimization\n",
    "PARAM$lgb$num_iterations <- 1000  # cantidad de arbolitos\n",
    "PARAM$lgb$learning_rate <- 0.027\n",
    "PARAM$lgb$feature_fraction <- 0.8\n",
    "PARAM$lgb$min_data_in_leaf <- 76\n",
    "PARAM$lgb$num_leaves <- 8\n",
    "PARAM$lgb$max_bin <- 31\n"
   ]
  },
  {
   "cell_type": "code",
   "execution_count": null,
   "metadata": {
    "id": "1gZD6ZMvCPRV"
   },
   "outputs": [],
   "source": [
    "# carpeta de trabajo\n",
    "setwd(\"/content/buckets/b1/exp\")\n",
    "experimento_folder <- paste0(\"KA\", PARAM$experimento)\n",
    "dir.create(experimento_folder, showWarnings=FALSE)\n",
    "setwd( paste0(\"/content/buckets/b1/exp/\", experimento_folder ))"
   ]
  },
  {
   "cell_type": "code",
   "execution_count": null,
   "metadata": {
    "id": "Xi0emX2ECPRV"
   },
   "outputs": [],
   "source": [
    "# lectura del dataset\n",
    "dataset <- fread(\"/content/datasets/dataset_pequeno.csv\", stringsAsFactors = TRUE)"
   ]
  },
  {
   "cell_type": "code",
   "execution_count": null,
   "metadata": {
    "id": "-3XuBeDy1Ugj"
   },
   "outputs": [],
   "source": [
    "# paso la clase a binaria que tome valores {0,1}  enteros\n",
    "# set trabaja con la clase  POS = { BAJA+1, BAJA+2 }\n",
    "# esta estrategia es MUY importante\n",
    "dataset[, clase01 := ifelse(clase_ternaria %in% c(\"BAJA+2\", \"BAJA+1\"), 1L, 0L)]"
   ]
  },
  {
   "cell_type": "code",
   "execution_count": null,
   "metadata": {
    "id": "h8Anoo4Sel8S"
   },
   "outputs": [],
   "source": [
    "# los campos que se van a utilizar\n",
    "campos_buenos <- setdiff(colnames(dataset), c(\"clase_ternaria\", \"clase01\"))"
   ]
  },
  {
   "cell_type": "code",
   "execution_count": null,
   "metadata": {
    "id": "RA3cSJ6KaGwA"
   },
   "outputs": [],
   "source": [
    "# establezco donde entreno\n",
    "dataset[, train := 0L]\n",
    "dataset[foto_mes %in% c(202107), train := 1L]"
   ]
  },
  {
   "cell_type": "code",
   "execution_count": null,
   "metadata": {
    "id": "T6Zr06HB1kMU"
   },
   "outputs": [],
   "source": [
    "# dejo los datos en el formato que necesita LightGBM\n",
    "dtrain <- lgb.Dataset(\n",
    "  data= data.matrix(dataset[train == 1L, campos_buenos, with = FALSE]),\n",
    "  label= dataset[train == 1L, clase01]\n",
    ")"
   ]
  },
  {
   "cell_type": "code",
   "execution_count": null,
   "metadata": {
    "id": "TI9_5pii2zCF"
   },
   "outputs": [],
   "source": [
    "# genero el modelo\n",
    "# estos hiperparametros  salieron de una laaarga Optmizacion Bayesiana\n",
    "set.seed( PARAM$semilla_primigenia ) # Establezco la semilla aleatoria\n",
    "\n",
    "modelo <- lgb.train(\n",
    "  data= dtrain,\n",
    "  param= list(\n",
    "    objective= \"binary\",\n",
    "    max_bin= PARAM$lgb$max_bin,\n",
    "    learning_rate= PARAM$lgb$learning_rate,\n",
    "    num_iterations= PARAM$lgb$num_iterations,\n",
    "    num_leaves= PARAM$lgb$num_leaves,\n",
    "    min_data_in_leaf= PARAM$lgb$min_data_in_leaf,\n",
    "    feature_fraction= PARAM$lgb$feature_fraction,\n",
    "    seed= PARAM$semilla_primigenia\n",
    "  )\n",
    ")\n"
   ]
  },
  {
   "cell_type": "code",
   "execution_count": null,
   "metadata": {
    "id": "69QcMsSkg9d-"
   },
   "outputs": [],
   "source": [
    "# ahora imprimo la importancia de variables\n",
    "tb_importancia <- as.data.table(lgb.importance(modelo))\n",
    "archivo_importancia <- \"impo.txt\"\n",
    "\n",
    "fwrite(tb_importancia,\n",
    "  file = archivo_importancia,\n",
    "  sep = \"\\t\"\n",
    ")\n"
   ]
  },
  {
   "cell_type": "code",
   "execution_count": null,
   "metadata": {
    "id": "lauiNeQDg-XP"
   },
   "outputs": [],
   "source": [
    "# grabo a disco el modelo en un formato para seres humanos ... ponele ...\n",
    "\n",
    "lgb.save(modelo, \"modelo.txt\" )"
   ]
  },
  {
   "cell_type": "code",
   "execution_count": null,
   "metadata": {
    "id": "VQhEcNmBhF7u"
   },
   "outputs": [],
   "source": [
    "# aplico el modelo a los datos sin clase\n",
    "dfuture <- dataset[foto_mes == 202109]\n",
    "\n",
    "# aplico el modelo a los datos nuevos\n",
    "prediccion <- predict(\n",
    "  modelo,\n",
    "  data.matrix(dfuture[, campos_buenos, with = FALSE])\n",
    ")\n"
   ]
  },
  {
   "cell_type": "code",
   "execution_count": null,
   "metadata": {
    "id": "Z5LYpStThlIC"
   },
   "outputs": [],
   "source": [
    "# tabla de prediccion\n",
    "\n",
    "tb_prediccion <- dfuture[, list(numero_de_cliente)]\n",
    "tb_prediccion[, prob := prediccion ]\n",
    "\n",
    "# grabo las probabilidad del modelo\n",
    "fwrite(tb_prediccion,\n",
    "  file = \"prediccion.txt\",\n",
    "  sep = \"\\t\"\n",
    ")"
   ]
  },
  {
   "cell_type": "code",
   "execution_count": null,
   "metadata": {
    "id": "vSopCODCh6kL"
   },
   "outputs": [],
   "source": [
    "# subidas a Kaggle\n",
    "# ordeno por probabilidad descendente\n",
    "setorder(tb_prediccion, -prob)"
   ]
  },
  {
   "cell_type": "code",
   "execution_count": null,
   "metadata": {
    "id": "-qtXKj-uiCJx"
   },
   "outputs": [],
   "source": [
    "# genero archivos con los  \"envios\" mejores\n",
    "# suba TODOS los archivos a Kaggle\n",
    "\n",
    "cortes <- seq(9000, 13500, by = 500)\n",
    "\n",
    "for (envios in cortes) {\n",
    "\n",
    "  tb_prediccion[, Predicted := 0L]\n",
    "  tb_prediccion[1:envios, Predicted := 1L]\n",
    "\n",
    "  archivo_kaggle <- paste0(\"KA\", PARAM$experimento, \"_\", envios, \".csv\")\n",
    "\n",
    "  # grabo el archivo\n",
    "  fwrite(tb_prediccion[, list(numero_de_cliente, Predicted)],\n",
    "    file = archivo_kaggle,\n",
    "    sep = \",\"\n",
    "  )\n",
    "\n",
    "  # subida a Kaggle\n",
    "  comando <- \"kaggle competitions submit\"\n",
    "  competencia <- \"-c labo-i-2025-rosario\"\n",
    "  arch <- paste( \"-f\", archivo_kaggle)\n",
    "\n",
    "  mensaje <- paste0(\"-m 'num_iterations=\", PARAM$lgb$num_iterations,\n",
    "    \"  learning_rate=\", PARAM$lgb$learning_rate,\n",
    "    \"  feature_fraction=\", PARAM$lgb$feature_fraction,\n",
    "    \"  min_data_in_leaf=\", PARAM$lgb$min_data_in_leaf,\n",
    "    \"  num_leaves=\",PARAM$lgb$num_leaves,\n",
    "    \"  max_bin=\", PARAM$lgb$max_bin,\n",
    "  \"'\" )\n",
    "\n",
    "  linea <- paste( comando, competencia, arch, mensaje)\n",
    "  salida <- system(linea, intern=TRUE)\n",
    "  cat(salida)\n",
    "}"
   ]
  },
  {
   "cell_type": "markdown",
   "metadata": {
    "id": "UMr6Z1enOyd3"
   },
   "source": [
    "\n",
    "\n",
    "---\n",
    "\n"
   ]
  },
  {
   "cell_type": "markdown",
   "metadata": {
    "id": "lO4QwOEU-xPe"
   },
   "source": [
    "### 5.4.3  LightGBM  optimizacion de hiperparámetros"
   ]
  },
  {
   "cell_type": "markdown",
   "metadata": {
    "id": "75FU3LjSF2uN"
   },
   "source": [
    "La optimizacion de los hiperparámetros de LightGBM mediante el método de optimizacion bayesiana será su *caballito de batalla* durante la asignatura !"
   ]
  },
  {
   "cell_type": "markdown",
   "metadata": {
    "id": "aJBO5Dcb_B7s"
   },
   "source": [
    "limpio el ambiente de R"
   ]
  },
  {
   "cell_type": "code",
   "execution_count": null,
   "metadata": {
    "id": "HPKFI6yP_B7s"
   },
   "outputs": [],
   "source": [
    "# limpio la memoria\n",
    "rm(list=ls(all.names=TRUE)) # remove all objects\n",
    "gc(full=TRUE, verbose=FALSE) # garbage collection"
   ]
  },
  {
   "cell_type": "code",
   "execution_count": 1,
   "metadata": {
    "id": "B6X8U6XF_B7t"
   },
   "outputs": [
    {
     "name": "stderr",
     "output_type": "stream",
     "text": [
      "Loading required package: data.table\n",
      "\n",
      "Loading required package: rpart\n",
      "\n",
      "Loading required package: parallel\n",
      "\n",
      "Loading required package: primes\n",
      "\n",
      "Loading required package: rlist\n",
      "\n",
      "Loading required package: lightgbm\n",
      "\n",
      "Loading required package: DiceKriging\n",
      "\n",
      "Loading required package: mlrMBO\n",
      "\n",
      "Loading required package: mlr\n",
      "\n",
      "Loading required package: ParamHelpers\n",
      "\n",
      "Loading required package: smoof\n",
      "\n",
      "Loading required package: checkmate\n",
      "\n",
      "\n",
      "Attaching package: ‘checkmate’\n",
      "\n",
      "\n",
      "The following object is masked from ‘package:DiceKriging’:\n",
      "\n",
      "    checkNames\n",
      "\n",
      "\n"
     ]
    }
   ],
   "source": [
    "# cargo las librerias que necesito\n",
    "require(\"data.table\")\n",
    "require(\"rpart\")\n",
    "require(\"parallel\")\n",
    "\n",
    "if( !require(\"primes\") ) install.packages(\"primes\")\n",
    "require(\"primes\")\n",
    "\n",
    "if( !require(\"rlist\") ) install.packages(\"rlist\")\n",
    "require(\"rlist\")\n",
    "\n",
    "if( !require(\"lightgbm\") ) install.packages(\"lightgbm\")\n",
    "require(\"lightgbm\")\n",
    "\n",
    "if( !require(\"DiceKriging\") ) install.packages(\"DiceKriging\")\n",
    "require(\"DiceKriging\")\n",
    "\n",
    "if( !require(\"mlrMBO\") ) install.packages(\"mlrMBO\")\n",
    "require(\"mlrMBO\")\n"
   ]
  },
  {
   "cell_type": "markdown",
   "metadata": {
    "id": "_qZHeAHdCJQ2"
   },
   "source": [
    "Aqui debe cargar SU semilla primigenia"
   ]
  },
  {
   "cell_type": "code",
   "execution_count": 47,
   "metadata": {
    "id": "2y3Ai8F6CJQ2"
   },
   "outputs": [],
   "source": [
    "PARAM <- list()\n",
    "PARAM$experimento <- 5555\n",
    "PARAM$semilla_primigenia <-  295007\n",
    "\n",
    "# un undersampling de 0.1  toma solo el 10% de los CONTINUA\n",
    "# undersampling de 1.0  implica tomar TODOS los datos\n",
    "PARAM$trainingstrategy$undersampling <- 1.0\n",
    "\n",
    "PARAM$hyperparametertuning$iteraciones <- 1000\n",
    "PARAM$hyperparametertuning$xval_folds <- 5\n",
    "PARAM$hyperparametertuning$POS_ganancia <- 117000\n",
    "PARAM$hyperparametertuning$NEG_ganancia <- -3000\n",
    "\n",
    "library(ParamHelpers)\n",
    "\n",
    "PARAM$hs <- makeParamSet(\n",
    "  makeNumericParam(\"learning_rate\", lower = 0.001, upper = 0.3),\n",
    "  makeIntegerParam(\"num_leaves\", lower = 8L, upper = 1024L),\n",
    "  makeNumericParam(\"feature_fraction\", lower = 0.3, upper = 1.0),\n",
    "  makeIntegerParam(\"min_data_in_leaf\", lower = 1L, upper = 8000L),\n",
    "  makeIntegerParam(\"envios\", lower = 5000L, upper = 15000L)\n",
    ")"
   ]
  },
  {
   "cell_type": "code",
   "execution_count": 48,
   "metadata": {
    "id": "P8YNRVVbCvQT"
   },
   "outputs": [],
   "source": [
    "# graba a un archivo los componentes de lista\n",
    "# para el primer registro, escribe antes los titulos\n",
    "\n",
    "loguear <- function(\n",
    "    reg, arch = NA, folder = \"./work/\",\n",
    "    ext = \".txt\", verbose = TRUE) {\n",
    "\n",
    "  archivo <- arch\n",
    "  if (is.na(arch)) archivo <- paste0(folder, substitute(reg), ext)\n",
    "\n",
    "  if (!file.exists(archivo)) # Escribo los titulos\n",
    "    {\n",
    "      linea <- paste0(\n",
    "        \"fecha\\t\",\n",
    "        paste(list.names(reg), collapse = \"\\t\"), \"\\n\"\n",
    "      )\n",
    "\n",
    "      cat(linea, file = archivo)\n",
    "    }\n",
    "\n",
    "  linea <- paste0(\n",
    "    format(Sys.time(), \"%Y%m%d %H%M%S\"), \"\\t\", # la fecha y hora\n",
    "    gsub(\", \", \"\\t\", toString(reg)), \"\\n\"\n",
    "  )\n",
    "\n",
    "  cat(linea, file = archivo, append = TRUE) # grabo al archivo\n",
    "\n",
    "  if (verbose) cat(linea) # imprimo por pantalla\n",
    "}\n"
   ]
  },
  {
   "cell_type": "code",
   "execution_count": 49,
   "metadata": {
    "id": "NnPKiCHuCwVo"
   },
   "outputs": [],
   "source": [
    "# esta funcion calcula internamente la ganancia de la prediccion probs\n",
    "# es llamada por lightgbm luego de construir cada  arbolito\n",
    "\n",
    "fganancia_logistic_lightgbm <- function(probs, datos) {\n",
    "  vpesos <- get_field(datos, \"weight\")\n",
    "\n",
    "  # vector de ganancias\n",
    "  vgan <- ifelse(vpesos == 1.0000002, PARAM$hyperparametertuning$POS_ganancia,\n",
    "    ifelse(vpesos == 1.0000001, PARAM$hyperparametertuning$NEG_ganancia,\n",
    "      PARAM$hyperparametertuning$NEG_ganancia /\n",
    "        PARAM$trainingstrategy$undersampling\n",
    "    )\n",
    "  )\n",
    "\n",
    "  tbl <- as.data.table(list(\"vprobs\" = probs, \"vgan\" = vgan))\n",
    "  setorder(tbl, -vprobs)\n",
    "  ganancia <- tbl[1:GLOBAL_envios, sum(vgan)]\n",
    "\n",
    "  return(list(\n",
    "    \"name\" = \"ganancia\",\n",
    "    \"value\" = ganancia,\n",
    "    \"higher_better\" = TRUE\n",
    "  ))\n",
    "}\n"
   ]
  },
  {
   "cell_type": "code",
   "execution_count": 50,
   "metadata": {
    "id": "kZSD7pUUCy58"
   },
   "outputs": [],
   "source": [
    "# esta funcion solo puede recibir los parametros que se estan optimizando\n",
    "# el resto de los parametros se pasan como variables globales,\n",
    "# la semilla del mal ...\n",
    "\n",
    "\n",
    "EstimarGanancia_lightgbm <- function(x) {\n",
    "  gc() # libero memoria\n",
    "\n",
    "  # llevo el registro de la iteracion por la que voy\n",
    "  GLOBAL_iteracion <<- GLOBAL_iteracion + 1\n",
    "\n",
    "  # para usar en fganancia_logistic_lightgbm\n",
    "  # asigno la variable global\n",
    "  GLOBAL_envios <<- as.integer(x$envios / PARAM$hyperparametertuning$xval_folds)\n",
    "\n",
    "  # cantidad de folds para cross validation\n",
    "  kfolds <- PARAM$hyperparametertuning$xval_folds\n",
    "\n",
    "  param_basicos <- list(\n",
    "    objective= \"binary\",\n",
    "    metric= \"custom\",\n",
    "    first_metric_only= TRUE,\n",
    "    boost_from_average= TRUE,\n",
    "    feature_pre_filter= FALSE,\n",
    "    verbosity= -100,\n",
    "    max_bin= 31, # por ahora, lo dejo fijo\n",
    "    num_iterations= 9999, # valor grande, lo limita early_stopping_rounds\n",
    "    force_row_wise= TRUE, # para evitar warning\n",
    "    seed= ksemilla_azar1\n",
    "  )\n",
    "\n",
    "  # el parametro discolo, que depende de otro\n",
    "  param_variable <- list(\n",
    "    early_stopping_rounds =\n",
    "      as.integer(50 + 5 / x$learning_rate)\n",
    "  )\n",
    "\n",
    "  param_completo <- c(param_basicos, param_variable, x)\n",
    "\n",
    "  set.seed(ksemilla_azar1)\n",
    "  modelocv <- lgb.cv(\n",
    "    data= dtrain,\n",
    "    eval= fganancia_logistic_lightgbm,\n",
    "    stratified= TRUE, # sobre el cross validation\n",
    "    nfold= kfolds, # folds del cross validation\n",
    "    param= param_completo,\n",
    "    verbose= -100\n",
    "  )\n",
    "\n",
    "  # obtengo la ganancia\n",
    "  ganancia <- unlist(modelocv$record_evals$valid$ganancia$eval)[modelocv$best_iter]\n",
    "\n",
    "  ganancia_normalizada <- ganancia * kfolds # normailizo la ganancia\n",
    "\n",
    "  # asigno el mejor num_iterations\n",
    "  param_completo$num_iterations <- modelocv$best_iter\n",
    "  # elimino de la lista el componente\n",
    "  param_completo[\"early_stopping_rounds\"] <- NULL\n",
    "\n",
    "\n",
    "  # el lenguaje R permite asignarle ATRIBUTOS a cualquier variable\n",
    "  # esta es la forma de devolver un parametro extra\n",
    "  attr(ganancia_normalizada, \"extras\") <-\n",
    "    list(\"num_iterations\" = modelocv$best_iter)\n",
    "\n",
    "  # logueo\n",
    "  xx <- param_completo\n",
    "  xx$ganancia <- ganancia_normalizada # le agrego la ganancia\n",
    "  xx$iteracion <- GLOBAL_iteracion\n",
    "  loguear(xx, arch = klog)\n",
    "\n",
    "  # Voy registrando la importancia de variables\n",
    "  if (ganancia_normalizada > GLOBAL_gananciamax) {\n",
    "    GLOBAL_gananciamax <<- ganancia_normalizada\n",
    "    modelo <- lgb.train(\n",
    "      data = dtrain,\n",
    "      param = param_completo,\n",
    "      verbose = -100\n",
    "    )\n",
    "\n",
    "    tb_importancia <- as.data.table(lgb.importance(modelo))\n",
    "    archivo_importancia <- paste0(\"impo_\", GLOBAL_iteracion, \".txt\")\n",
    "    fwrite(tb_importancia,\n",
    "      file = archivo_importancia,\n",
    "      sep = \"\\t\" )\n",
    "\n",
    "    loguear(xx, arch = klog_mejor)\n",
    "  }\n",
    "\n",
    "  return(ganancia_normalizada)\n",
    "}\n"
   ]
  },
  {
   "cell_type": "markdown",
   "metadata": {
    "id": "P7Pw1KLeE3UH"
   },
   "source": [
    "aqui se inicia el programa"
   ]
  },
  {
   "cell_type": "code",
   "execution_count": 51,
   "metadata": {
    "id": "w1lb19whCJQ3"
   },
   "outputs": [],
   "source": [
    "# carpeta de trabajo\n",
    "setwd(\"/content/buckets/b1/exp\")\n",
    "experimento_folder <- paste0(\"HT\", PARAM$experimento)\n",
    "dir.create(experimento_folder, showWarnings=FALSE)\n",
    "setwd( paste0(\"/content/buckets/b1/exp/\", experimento_folder ))"
   ]
  },
  {
   "cell_type": "code",
   "execution_count": 52,
   "metadata": {
    "id": "fbLF3Vr0DAeJ"
   },
   "outputs": [],
   "source": [
    "# genero numeros primos\n",
    "primos <- generate_primes(min = 100000, max = 1000000)\n",
    "set.seed(PARAM$semilla_primigenia) # inicializo\n",
    "# me quedo con PARAM$qsemillas   semillas\n",
    "PARAM$semillas <- sample(primos, 2 )\n",
    "ksemilla_azar1 <- PARAM$semillas[1]\n",
    "ksemilla_azar2 <- PARAM$semillas[2]\n"
   ]
  },
  {
   "cell_type": "code",
   "execution_count": 53,
   "metadata": {
    "id": "QvOokHUvuolF"
   },
   "outputs": [],
   "source": [
    "# en estos archivos quedan los resultados\n",
    "\n",
    "kbayesiana <- paste0(PARAM$experimento, \".RDATA\")\n",
    "klog <- paste0(PARAM$experimento, \".txt\")\n",
    "klog_mejor <- paste0(PARAM$experimento, \"_mejor.txt\")\n",
    "\n",
    "GLOBAL_iteracion <- 0 # inicializo la variable global\n",
    "GLOBAL_gananciamax <- -1 # inicializo la variable global\n",
    "\n",
    "# si ya existe el archivo log, traigo hasta donde llegue\n",
    "if (file.exists(klog)) {\n",
    "  tabla_log <- fread(klog)\n",
    "  GLOBAL_iteracion <- nrow(tabla_log)\n",
    "  GLOBAL_gananciamax <- tabla_log[, max(ganancia)]\n",
    "}\n"
   ]
  },
  {
   "cell_type": "code",
   "execution_count": 54,
   "metadata": {
    "id": "xcOJpoFvCJQ3"
   },
   "outputs": [],
   "source": [
    "# lectura del dataset\n",
    "dataset <- fread(\"/content/datasets/dataset_pequeno.csv\")"
   ]
  },
  {
   "cell_type": "code",
   "execution_count": 55,
   "metadata": {
    "id": "JorOk_A8EhSy"
   },
   "outputs": [],
   "source": [
    "dataset <- dataset[foto_mes %in% c(202107)]"
   ]
  },
  {
   "cell_type": "code",
   "execution_count": 56,
   "metadata": {
    "id": "JDg9xZVYrwvj"
   },
   "outputs": [],
   "source": [
    "# paso la clase a binaria que tome valores {0,1}  enteros\n",
    "dataset[\n",
    "  foto_mes %in% c(202107),\n",
    "  clase01 := ifelse(clase_ternaria == \"CONTINUA\", 0L, 1L)\n",
    "]"
   ]
  },
  {
   "cell_type": "code",
   "execution_count": 57,
   "metadata": {
    "id": "E68xpDYAr0nK"
   },
   "outputs": [],
   "source": [
    "# los campos que se van a utilizar\n",
    "campos_buenos <- setdiff(\n",
    "  colnames(dataset),\n",
    "  c(\"clase_ternaria\", \"clase01\", \"azar\", \"training\")\n",
    ")\n"
   ]
  },
  {
   "cell_type": "code",
   "execution_count": 58,
   "metadata": {
    "id": "G8zeYUfSr3GF"
   },
   "outputs": [],
   "source": [
    "# defino los datos que forma parte del training\n",
    "# aqui se hace el undersampling de los CONTINUA\n",
    "# notar que para esto utilizo la SEGUNDA semilla\n",
    "\n",
    "set.seed(ksemilla_azar2)\n",
    "dataset[, azar := runif(nrow(dataset))]\n",
    "dataset[, training := 0L]\n",
    "dataset[\n",
    "  foto_mes %in% c(202107) &\n",
    "    (azar <= PARAM$trainingstrategy$undersampling | clase_ternaria %in% c(\"BAJA+1\", \"BAJA+2\")),\n",
    "  training := 1L\n",
    "]"
   ]
  },
  {
   "cell_type": "code",
   "execution_count": 59,
   "metadata": {
    "id": "se8_aKuMr5CV"
   },
   "outputs": [],
   "source": [
    "# dejo los datos en el formato que necesita LightGBM\n",
    "dtrain <- lgb.Dataset(\n",
    "  data = data.matrix(dataset[training == 1L, campos_buenos, with = FALSE]),\n",
    "  label = dataset[training == 1L, clase01],\n",
    "  weight = dataset[training == 1L, ifelse(clase_ternaria == \"BAJA+2\", 1.0000002, ifelse(clase_ternaria == \"BAJA+1\", 1.0000001, 1.0))],\n",
    "  free_raw_data = FALSE\n",
    ")\n"
   ]
  },
  {
   "cell_type": "code",
   "execution_count": 60,
   "metadata": {
    "id": "CsRYGGeN-1ID"
   },
   "outputs": [],
   "source": [
    "# Aqui comienza la configuracion de la Bayesian Optimization\n",
    "funcion_optimizar <- EstimarGanancia_lightgbm # la funcion que voy a maximizar\n",
    "\n",
    "configureMlr(show.learner.output = FALSE)\n",
    "\n",
    "# configuro la busqueda bayesiana,  los hiperparametros que se van a optimizar\n",
    "# por favor, no desesperarse por lo complejo\n",
    "obj.fun <- makeSingleObjectiveFunction(\n",
    "  fn = funcion_optimizar, # la funcion que voy a maximizar\n",
    "  minimize = FALSE, # estoy Maximizando la ganancia\n",
    "  noisy = TRUE,\n",
    "  par.set = PARAM$hs, # definido al comienzo del programa\n",
    "  has.simple.signature = FALSE # paso los parametros en una lista\n",
    ")\n",
    "\n",
    "# cada 600 segundos guardo el resultado intermedio\n",
    "ctrl <- makeMBOControl(\n",
    "  save.on.disk.at.time = 600, # se graba cada 600 segundos\n",
    "  save.file.path = kbayesiana\n",
    ") # se graba cada 600 segundos\n",
    "\n",
    "# indico la cantidad de iteraciones que va a tener la Bayesian Optimization\n",
    "ctrl <- setMBOControlTermination(\n",
    "  ctrl,\n",
    "  iters = PARAM$hyperparametertuning$iteraciones\n",
    ") # cantidad de iteraciones\n",
    "\n",
    "# defino el método estandar para la creacion de los puntos iniciales,\n",
    "# los \"No Inteligentes\"\n",
    "ctrl <- setMBOControlInfill(ctrl, crit = makeMBOInfillCritEI())\n",
    "\n",
    "# establezco la funcion que busca el maximo\n",
    "surr.km <- makeLearner(\n",
    "  \"regr.km\",\n",
    "  predict.type = \"se\",\n",
    "  covtype = \"matern3_2\",\n",
    "  control = list(trace = TRUE)\n",
    ")\n"
   ]
  },
  {
   "cell_type": "code",
   "execution_count": null,
   "metadata": {
    "id": "TissqCCHD1uZ"
   },
   "outputs": [
    {
     "name": "stderr",
     "output_type": "stream",
     "text": [
      "Computing y column(s) for design. Not provided.\n",
      "\n"
     ]
    },
    {
     "name": "stdout",
     "output_type": "stream",
     "text": [
      "20250605 005650\tbinary\tcustom\tTRUE\tTRUE\tFALSE\t-100\t31\t328\tTRUE\t221497\t0.085304885239969\t567\t0.534356587624643\t4411\t10686\t59985000\t1\n",
      "20250605 005703\tbinary\tcustom\tTRUE\tTRUE\tFALSE\t-100\t31\t328\tTRUE\t221497\t0.085304885239969\t567\t0.534356587624643\t4411\t10686\t59985000\t1\n",
      "20250605 005749\tbinary\tcustom\tTRUE\tTRUE\tFALSE\t-100\t31\t118\tTRUE\t221497\t0.101671070148703\t613\t0.575272656481247\t591\t9544\t60660000\t2\n",
      "20250605 005801\tbinary\tcustom\tTRUE\tTRUE\tFALSE\t-100\t31\t118\tTRUE\t221497\t0.101671070148703\t613\t0.575272656481247\t591\t9544\t60660000\t2\n",
      "20250605 005824\tbinary\tcustom\tTRUE\tTRUE\tFALSE\t-100\t31\t73\tTRUE\t221497\t0.165976307166496\t427\t0.47098188466276\t2812\t7477\t56655000\t3\n",
      "20250605 005900\tbinary\tcustom\tTRUE\tTRUE\tFALSE\t-100\t31\t195\tTRUE\t221497\t0.125062622270011\t698\t0.865301379784942\t2285\t9114\t59430000\t4\n",
      "20250605 005915\tbinary\tcustom\tTRUE\tTRUE\tFALSE\t-100\t31\t59\tTRUE\t221497\t0.186342070324114\t373\t0.997854666080093\t3833\t12655\t58515000\t5\n",
      "20250605 005930\tbinary\tcustom\tTRUE\tTRUE\tFALSE\t-100\t31\t68\tTRUE\t221497\t0.210368380383111\t869\t0.772555017860141\t5750\t11693\t57690000\t6\n",
      "20250605 005952\tbinary\tcustom\tTRUE\tTRUE\tFALSE\t-100\t31\t66\tTRUE\t221497\t0.153050667332113\t111\t0.805154250512133\t1091\t8525\t59265000\t7\n",
      "20250605 010004\tbinary\tcustom\tTRUE\tTRUE\tFALSE\t-100\t31\t38\tTRUE\t221497\t0.244383556803735\t477\t0.664788247094257\t7170\t5479\t50895000\t8\n",
      "20250605 010111\tbinary\tcustom\tTRUE\tTRUE\tFALSE\t-100\t31\t409\tTRUE\t221497\t0.0236386878352845\t758\t0.700140208372613\t4831\t7766\t57345000\t9\n",
      "20250605 010158\tbinary\tcustom\tTRUE\tTRUE\tFALSE\t-100\t31\t267\tTRUE\t221497\t0.147419490170176\t25\t0.386765994123416\t4257\t14233\t58950000\t10\n",
      "20250605 010225\tbinary\tcustom\tTRUE\tTRUE\tFALSE\t-100\t31\t177\tTRUE\t221497\t0.110000968787621\t338\t0.63435999522917\t6098\t8025\t57405000\t11\n",
      "20250605 010240\tbinary\tcustom\tTRUE\tTRUE\tFALSE\t-100\t31\t49\tTRUE\t221497\t0.296962398190808\t804\t0.342745467961067\t5420\t14796\t56895000\t12\n",
      "20250605 010447\tbinary\tcustom\tTRUE\tTRUE\tFALSE\t-100\t31\t695\tTRUE\t221497\t0.040837579942157\t654\t0.491566625923151\t2690\t13045\t61305000\t13\n",
      "20250605 010511\tbinary\tcustom\tTRUE\tTRUE\tFALSE\t-100\t31\t695\tTRUE\t221497\t0.040837579942157\t654\t0.491566625923151\t2690\t13045\t61305000\t13\n",
      "20250605 010530\tbinary\tcustom\tTRUE\tTRUE\tFALSE\t-100\t31\t111\tTRUE\t221497\t0.229028962290671\t924\t0.960770921391668\t6672\t6450\t54330000\t14\n",
      "20250605 010634\tbinary\tcustom\tTRUE\tTRUE\tFALSE\t-100\t31\t138\tTRUE\t221497\t0.0732150784480153\t977\t0.594229905143147\t393\t5535\t53835000\t15\n",
      "20250605 010648\tbinary\tcustom\tTRUE\tTRUE\tFALSE\t-100\t31\t60\tTRUE\t221497\t0.196039190470253\t176\t0.830694777687313\t7455\t13650\t57810000\t16\n",
      "20250605 010709\tbinary\tcustom\tTRUE\tTRUE\tFALSE\t-100\t31\t69\tTRUE\t221497\t0.271599446325365\t105\t0.406970620453358\t1808\t6780\t53100000\t17\n",
      "20250605 013513\tbinary\tcustom\tTRUE\tTRUE\tFALSE\t-100\t31\t2013\tTRUE\t221497\t0.00512379335296573\t312\t0.914804894838017\t3590\t10466\t60285000\t18\n",
      "20250605 013531\tbinary\tcustom\tTRUE\tTRUE\tFALSE\t-100\t31\t42\tTRUE\t221497\t0.2690613095382\t873\t0.746927980497712\t1322\t11104\t58980000\t19\n",
      "20250605 013614\tbinary\tcustom\tTRUE\tTRUE\tFALSE\t-100\t31\t224\tTRUE\t221497\t0.0538212311540265\t211\t0.309684241838986\t7928\t12070\t58110000\t20\n"
     ]
    },
    {
     "name": "stderr",
     "output_type": "stream",
     "text": [
      "[mbo] 0: learning_rate=0.0853; num_leaves=567; feature_fraction=0.534; min_data_in_leaf=4411; envios=10686 : y = 6e+07 : 76.8 secs : initdesign\n",
      "\n",
      "[mbo] 0: learning_rate=0.102; num_leaves=613; feature_fraction=0.575; min_data_in_leaf=591; envios=9544 : y = 6.07e+07 : 59.0 secs : initdesign\n",
      "\n",
      "[mbo] 0: learning_rate=0.166; num_leaves=427; feature_fraction=0.471; min_data_in_leaf=2812; envios=7477 : y = 5.67e+07 : 24.2 secs : initdesign\n",
      "\n",
      "[mbo] 0: learning_rate=0.125; num_leaves=698; feature_fraction=0.865; min_data_in_leaf=2285; envios=9114 : y = 5.94e+07 : 34.7 secs : initdesign\n",
      "\n",
      "[mbo] 0: learning_rate=0.186; num_leaves=373; feature_fraction=0.998; min_data_in_leaf=3833; envios=12655 : y = 5.85e+07 : 15.1 secs : initdesign\n",
      "\n",
      "[mbo] 0: learning_rate=0.21; num_leaves=869; feature_fraction=0.773; min_data_in_leaf=5750; envios=11693 : y = 5.77e+07 : 14.6 secs : initdesign\n",
      "\n",
      "[mbo] 0: learning_rate=0.153; num_leaves=111; feature_fraction=0.805; min_data_in_leaf=1091; envios=8525 : y = 5.93e+07 : 22.9 secs : initdesign\n",
      "\n",
      "[mbo] 0: learning_rate=0.244; num_leaves=477; feature_fraction=0.665; min_data_in_leaf=7170; envios=5479 : y = 5.09e+07 : 11.6 secs : initdesign\n",
      "\n",
      "[mbo] 0: learning_rate=0.0236; num_leaves=758; feature_fraction=0.7; min_data_in_leaf=4831; envios=7766 : y = 5.73e+07 : 66.5 secs : initdesign\n",
      "\n",
      "[mbo] 0: learning_rate=0.147; num_leaves=25; feature_fraction=0.387; min_data_in_leaf=4257; envios=14233 : y = 5.9e+07 : 46.7 secs : initdesign\n",
      "\n",
      "[mbo] 0: learning_rate=0.11; num_leaves=338; feature_fraction=0.634; min_data_in_leaf=6098; envios=8025 : y = 5.74e+07 : 27.1 secs : initdesign\n",
      "\n",
      "[mbo] 0: learning_rate=0.297; num_leaves=804; feature_fraction=0.343; min_data_in_leaf=5420; envios=14796 : y = 5.69e+07 : 15.1 secs : initdesign\n",
      "\n",
      "[mbo] 0: learning_rate=0.0408; num_leaves=654; feature_fraction=0.492; min_data_in_leaf=2690; envios=13045 : y = 6.13e+07 : 151.2 secs : initdesign\n",
      "\n",
      "[mbo] 0: learning_rate=0.229; num_leaves=924; feature_fraction=0.961; min_data_in_leaf=6672; envios=6450 : y = 5.43e+07 : 18.8 secs : initdesign\n",
      "\n",
      "[mbo] 0: learning_rate=0.0732; num_leaves=977; feature_fraction=0.594; min_data_in_leaf=393; envios=5535 : y = 5.38e+07 : 64.2 secs : initdesign\n",
      "\n",
      "[mbo] 0: learning_rate=0.196; num_leaves=176; feature_fraction=0.831; min_data_in_leaf=7455; envios=13650 : y = 5.78e+07 : 13.3 secs : initdesign\n",
      "\n",
      "[mbo] 0: learning_rate=0.272; num_leaves=105; feature_fraction=0.407; min_data_in_leaf=1808; envios=6780 : y = 5.31e+07 : 21.6 secs : initdesign\n",
      "\n",
      "[mbo] 0: learning_rate=0.00512; num_leaves=312; feature_fraction=0.915; min_data_in_leaf=3590; envios=10466 : y = 6.03e+07 : 1684.8 secs : initdesign\n",
      "\n",
      "[mbo] 0: learning_rate=0.269; num_leaves=873; feature_fraction=0.747; min_data_in_leaf=1322; envios=11104 : y = 5.9e+07 : 17.2 secs : initdesign\n",
      "\n",
      "[mbo] 0: learning_rate=0.0538; num_leaves=211; feature_fraction=0.31; min_data_in_leaf=7928; envios=12070 : y = 5.81e+07 : 43.6 secs : initdesign\n",
      "\n",
      "Saved the current state after iteration 1 in the file 5555.RDATA.\n",
      "\n"
     ]
    }
   ],
   "source": [
    "# inicio la optimizacion bayesiana\n",
    "\n",
    "if (!file.exists(kbayesiana)) {\n",
    "  run <- mbo(obj.fun, learner = surr.km, control = ctrl)\n",
    "} else {\n",
    "  run <- mboContinue(kbayesiana) # retomo en caso que ya exista\n",
    "}"
   ]
  },
  {
   "cell_type": "markdown",
   "metadata": {
    "id": "0vu-1vf5LrVg"
   },
   "source": [
    "\n",
    "\n",
    "---\n",
    "\n"
   ]
  },
  {
   "cell_type": "markdown",
   "metadata": {},
   "source": [
    "Evaluar los resultados"
   ]
  },
  {
   "cell_type": "code",
   "execution_count": null,
   "metadata": {},
   "outputs": [],
   "source": [
    "library(data.table)\n",
    "library(ggplot2)\n",
    "load(kbayesiana)\n",
    "historial<- as.data.frame(run$opt.path)\n",
    "mejores_param<-run$x\n",
    "mejor_ganancia<-run$y\n"
   ]
  },
  {
   "cell_type": "code",
   "execution_count": null,
   "metadata": {},
   "outputs": [],
   "source": [
    "cat(\"Mejores hiperparámetros encontrados:\\n\")\n",
    "print(mejores_param)\n",
    "cat(\"\\nGanancia obtenida:\", mejor_ganancia, \"\\n\")\n",
    "\n",
    "# 4. Leer historial de ganancia (opcional si usaste klog)\n",
    "if (file.exists(klog)) {\n",
    "  tabla_log <- fread(klog)\n",
    "  \n",
    "  # Gráfico de evolución de la ganancia\n",
    "  ggplot(tabla_log, aes(x = seq_len(.N), y = ganancia)) +\n",
    "    geom_line(color = \"steelblue\") +\n",
    "    geom_point() +\n",
    "    labs(title = \"Evolución de la ganancia en la búsqueda bayesiana\",\n",
    "         x = \"Iteración\", y = \"Ganancia\") +\n",
    "    theme_minimal()\n",
    "}"
   ]
  }
 ],
 "metadata": {
  "colab": {
   "provenance": []
  },
  "kernelspec": {
   "display_name": "R",
   "language": "R",
   "name": "ir"
  },
  "language_info": {
   "codemirror_mode": "r",
   "file_extension": ".r",
   "mimetype": "text/x-r-source",
   "name": "R",
   "pygments_lexer": "r",
   "version": "4.4.3"
  }
 },
 "nbformat": 4,
 "nbformat_minor": 4
}
